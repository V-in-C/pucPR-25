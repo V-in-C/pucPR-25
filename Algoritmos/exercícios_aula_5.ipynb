{
 "cells": [
  {
   "cell_type": "markdown",
   "id": "e626e269",
   "metadata": {},
   "source": [
    "#Exercício 1) Preencha um vetor de inteiros com 10 valores lidos pelo teclado, ao fim do\n",
    "programa, imprima cada posição do vetor"
   ]
  },
  {
   "cell_type": "code",
   "execution_count": 2,
   "id": "af4022bd",
   "metadata": {},
   "outputs": [
    {
     "name": "stdout",
     "output_type": "stream",
     "text": [
      "Posição 0: 5\n",
      "Posição 1: 7\n",
      "Posição 2: 4\n",
      "Posição 3: 5\n",
      "Posição 4: 8\n",
      "Posição 5: 2\n",
      "Posição 6: 3\n",
      "Posição 7: -3\n",
      "Posição 8: 4\n",
      "Posição 9: 3345\n"
     ]
    }
   ],
   "source": [
    "# Preencher um vetor de inteiros com 10 valores lidos pelo teclado\n",
    "vetor = []\n",
    "for i in range(10):\n",
    "    valor = int(input(f\"Digite o valor para a posição {i}: \"))\n",
    "    vetor.append(valor)\n",
    "\n",
    "# Imprimir cada posição do vetor\n",
    "for i, valor in enumerate(vetor):\n",
    "    print(f\"Posição {i}: {valor}\")"
   ]
  },
  {
   "cell_type": "markdown",
   "id": "36927e07",
   "metadata": {},
   "source": [
    "# 2) Implemente um programa que recebe uma String como entrada, conte quantas vogais tem na String."
   ]
  },
  {
   "cell_type": "code",
   "execution_count": 3,
   "id": "bd6fa5fe",
   "metadata": {},
   "outputs": [
    {
     "name": "stdout",
     "output_type": "stream",
     "text": [
      "Número de vogais na string 'Exemplo de string': 5\n"
     ]
    }
   ],
   "source": [
    "def vowel_counter(string):\n",
    "    \"\"\"\n",
    "    Função que conta o número de vogais em uma string.\n",
    "    \"\"\"\n",
    "    vogais = \"aeiouAEIOU\"\n",
    "    contador = 0\n",
    "    for char in string:\n",
    "        if char in vogais:\n",
    "            contador += 1\n",
    "    return contador\n",
    "\n",
    "# Exemplo de uso da função vowel_counter\n",
    "string = \"Exemplo de string\"\n",
    "num_vogais = vowel_counter(string)\n",
    "print(f\"Número de vogais na string '{string}': {num_vogais}\")"
   ]
  },
  {
   "cell_type": "markdown",
   "id": "424f2393",
   "metadata": {},
   "source": [
    "# 3) Dado um vetor de inteiros de 10 posições com valores lidos pelo teclado, desenvolver um programa para, em loop:\n",
    "# Pedir ao usuário um valor N\n",
    "# Pedir ao usuário um valor de índice\n",
    "# Atualizar o conteúdo da lista no índice com o valor N, e exibir a nova lista\n"
   ]
  },
  {
   "cell_type": "code",
   "execution_count": null,
   "id": "f3ec329a",
   "metadata": {},
   "outputs": [
    {
     "name": "stdout",
     "output_type": "stream",
     "text": [
      "Vetor atualizado: [5, 3, 13, 7, 8, 9, 2, 4, 5, 6]\n"
     ]
    }
   ],
   "source": [
    "def atualiza_vetor(vetor):\n",
    "    \"\"\"\n",
    "    Função que atualiza o vetor com novos valores lidos pelo teclado.\n",
    "    \"\"\"\n",
    "    N = int(input(\"Digite o valor de N: \"))\n",
    "    i = -1\n",
    "    while i < 0 or i > len(vetor):\n",
    "        i = int(input(\"Digite o valor do índice: \"))\n",
    "        if 0 <= i < len(vetor):\n",
    "            vetor[i] = N\n",
    "        else:\n",
    "            print(\"Índice inválido. Tente novamente.\")\n",
    "    return vetor        \n",
    "    \n",
    "# Criar um vetor de inteiros com 10 valores lidos pelo teclado\n",
    "vetor = []\n",
    "for i in range(10):\n",
    "    valor = int(input(f\"Digite o valor para a posição {i}: \"))\n",
    "    vetor.append(valor)\n",
    "new_vetor = atualiza_vetor(vetor)\n",
    "print(\"vetor original:\", vetor)\n",
    "print(\"Vetor atualizado:\", new_vetor)\n",
    "\n"
   ]
  },
  {
   "cell_type": "markdown",
   "id": "a5027e2a",
   "metadata": {},
   "source": [
    "# Atividade Hands-On - Megasena\n",
    "\n",
    "# Implemente um programa em Python para verificar quantos números uma aposta acertou na Megasena. O programa deve ler do teclado os 6 números apostados ecomparar com 6 números sorteados. Ao final o programa deve exibir os números sorteados, números jogados e quantidade de acertos.\n"
   ]
  },
  {
   "cell_type": "code",
   "execution_count": null,
   "id": "668390f5",
   "metadata": {},
   "outputs": [],
   "source": [
    "def verficar_Mega_Sena():\n",
    "    \"\"\"\n",
    "    Função para verificar quantos números uma aposta acertou na Megasena.\n",
    "    \"\"\"\n",
    "    # Ler 6 números apostados pelo usuário\n",
    "    aposta = []\n",
    "    print(\"Digite os 6 números apostados:\")\n",
    "    while len(aposta) < 6:\n",
    "        n = int(input(f\"Número {len(aposta)+1}: \"))\n",
    "        if n not in aposta and 1 <= n <= 60:\n",
    "            aposta.append(n)\n",
    "        else:\n",
    "            print(\"Número inválido ou repetido. Digite novamente (entre 1 e 60).\")\n",
    "\n",
    "    # Ler 6 números sorteados\n",
    "    sorteados = []\n",
    "    print(\"Digite os 6 números sorteados:\")\n",
    "    while len(sorteados) < 6:\n",
    "        n = int(input(f\"Sorteado {len(sorteados)+1}: \"))\n",
    "        if n not in sorteados and 1 <= n <= 60:\n",
    "            sorteados.append(n)\n",
    "        else:\n",
    "            print(\"Número inválido ou repetido. Digite novamente (entre 1 e 60).\")\n",
    "\n",
    "    # Verificar acertos\n",
    "    acertos = set(aposta) & set(sorteados)\n",
    "\n",
    "    print(f\"Números sorteados: {sorted(sorteados)}\")\n",
    "    print(f\"Números jogados: {sorted(aposta)}\")\n",
    "    print(f\"Quantidade de acertos: {len(acertos)}\")\n",
    "    if acertos:\n",
    "        print(f\"Números acertados: {sorted(acertos)}\")\n",
    "    else:\n",
    "        print(\"Nenhum número acertado.\")\n",
    "    \n",
    "# Chamar a função para verificar os números da Mega Sena\n",
    "verficar_Mega_Sena()"
   ]
  }
 ],
 "metadata": {
  "kernelspec": {
   "display_name": "Python 3",
   "language": "python",
   "name": "python3"
  },
  "language_info": {
   "codemirror_mode": {
    "name": "ipython",
    "version": 3
   },
   "file_extension": ".py",
   "mimetype": "text/x-python",
   "name": "python",
   "nbconvert_exporter": "python",
   "pygments_lexer": "ipython3",
   "version": "3.13.0"
  }
 },
 "nbformat": 4,
 "nbformat_minor": 5
}
